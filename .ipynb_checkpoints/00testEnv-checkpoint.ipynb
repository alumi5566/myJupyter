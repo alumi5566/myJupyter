{
 "cells": [
  {
   "cell_type": "code",
   "execution_count": 4,
   "id": "25fd5a55-108d-469b-ad59-c58e26785a43",
   "metadata": {},
   "outputs": [
    {
     "name": "stdout",
     "output_type": "stream",
     "text": [
      "name    11\n",
      "num1    22\n",
      "num2    33\n",
      "num3    44\n",
      "dtype: int64\n"
     ]
    }
   ],
   "source": [
    "import pandas as pd\n",
    "seriese_1 = pd.Series([11,22,33,44], index = [\"name\", \"num1\", \"num2\", \"num3\"])\n",
    "print(seriese_1)"
   ]
  }
 ],
 "metadata": {
  "kernelspec": {
   "display_name": "Python 3 (ipykernel)",
   "language": "python",
   "name": "python3"
  },
  "language_info": {
   "codemirror_mode": {
    "name": "ipython",
    "version": 3
   },
   "file_extension": ".py",
   "mimetype": "text/x-python",
   "name": "python",
   "nbconvert_exporter": "python",
   "pygments_lexer": "ipython3",
   "version": "3.12.3"
  }
 },
 "nbformat": 4,
 "nbformat_minor": 5
}
