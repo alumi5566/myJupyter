{
 "cells": [
  {
   "cell_type": "code",
   "execution_count": null,
   "id": "dac9167a-5c3f-4c69-bfef-94d5fa20c727",
   "metadata": {},
   "outputs": [],
   "source": []
  }
 ],
 "metadata": {
  "kernelspec": {
   "display_name": "",
   "name": ""
  },
  "language_info": {
   "name": ""
  }
 },
 "nbformat": 4,
 "nbformat_minor": 5
}
